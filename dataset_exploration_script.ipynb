{
 "cells": [
  {
   "cell_type": "markdown",
   "id": "fd9df77e-b310-4b7c-9d9c-1ea9268d2758",
   "metadata": {},
   "source": [
    "## Dataset building"
   ]
  },
  {
   "cell_type": "code",
   "execution_count": 1,
   "id": "7f8d6d30-0de4-4e75-a628-219a487b2301",
   "metadata": {
    "tags": []
   },
   "outputs": [],
   "source": [
    "# imports\n",
    "import pathlib\n",
    "\n",
    "import numpy as np\n",
    "from torchvision.models.detection.transform import GeneralizedRCNNTransform\n",
    "\n",
    "from pytorch_faster_rcnn_tutorial.datasets import ObjectDetectionDataSet\n",
    "from pytorch_faster_rcnn_tutorial.transformations import Clip, ComposeDouble\n",
    "from pytorch_faster_rcnn_tutorial.transformations import FunctionWrapperDouble\n",
    "from pytorch_faster_rcnn_tutorial.transformations import normalize_01\n",
    "from pytorch_faster_rcnn_tutorial.utils import get_filenames_of_path\n",
    "from pytorch_faster_rcnn_tutorial.utils import stats_dataset\n",
    "from pytorch_faster_rcnn_tutorial.visual import DatasetViewer"
   ]
  },
  {
   "cell_type": "code",
   "execution_count": 2,
   "id": "9eb489c9-60fa-4678-b863-36c20867d6c5",
   "metadata": {
    "tags": []
   },
   "outputs": [],
   "source": [
    "# root directory\n",
    "# root = pathlib.Path('pytorch_faster_rcnn_tutorial/data/heads')\n",
    "# root = pathlib.Path('pytorch_faster_rcnn_tutorial/data/stop_line')\n",
    "# root = pathlib.Path('pytorch_faster_rcnn_tutorial/data/speed_bump')\n",
    "root = pathlib.Path('pytorch_faster_rcnn_tutorial/data/cross_lane')"
   ]
  },
  {
   "cell_type": "code",
   "execution_count": 3,
   "id": "9a669bbb-d077-4b95-9bb3-e1c726615091",
   "metadata": {
    "tags": []
   },
   "outputs": [],
   "source": [
    "# input and target files\n",
    "inputs = get_filenames_of_path(root / 'input')\n",
    "targets = get_filenames_of_path(root / 'target')\n",
    "# inputs = get_filenames_of_path(root / 'test')\n",
    "# targets = get_filenames_of_path(root / 'predictions')\n",
    "\n",
    "inputs.sort()\n",
    "targets.sort()"
   ]
  },
  {
   "cell_type": "code",
   "execution_count": 4,
   "id": "cd324587-2d3a-40b6-8517-caf558e6be05",
   "metadata": {
    "tags": []
   },
   "outputs": [],
   "source": [
    "# mapping\n",
    "mapping = {\n",
    "    # 'head': 1,\n",
    "    # 'stopline': 1,\n",
    "    # 'speedbump': 1,\n",
    "    # 'bumpsign': 2,\n",
    "    'crossdash': 1\n",
    "}"
   ]
  },
  {
   "cell_type": "code",
   "execution_count": 5,
   "id": "f100e8b9-e650-4adb-9ecc-aa1255ce607a",
   "metadata": {
    "tags": []
   },
   "outputs": [],
   "source": [
    "# transforms\n",
    "transforms = ComposeDouble([\n",
    "    Clip(),\n",
    "    # AlbumentationWrapper(albumentation=A.HorizontalFlip(p=0.5)),\n",
    "    # AlbumentationWrapper(albumentation=A.RandomScale(p=0.5, scale_limit=0.5)),\n",
    "    # AlbumentationWrapper(albumentation=A.VerticalFlip(p=0.5)),\n",
    "    FunctionWrapperDouble(np.moveaxis, source=-1, destination=0),\n",
    "    FunctionWrapperDouble(normalize_01)\n",
    "])"
   ]
  },
  {
   "cell_type": "code",
   "execution_count": 6,
   "id": "e2fb91b8-c3c1-42bb-8df6-67886f32e02a",
   "metadata": {
    "tags": []
   },
   "outputs": [],
   "source": [
    "# dataset building\n",
    "dataset = ObjectDetectionDataSet(inputs=inputs,\n",
    "                                 targets=targets,\n",
    "                                 transform=transforms,\n",
    "                                 use_cache=False,\n",
    "                                 convert_to_format=None,\n",
    "                                 mapping=mapping)"
   ]
  },
  {
   "cell_type": "code",
   "execution_count": 7,
   "id": "7e02e3a5",
   "metadata": {},
   "outputs": [],
   "source": [
    "sample = dataset[0]"
   ]
  },
  {
   "cell_type": "code",
   "execution_count": 8,
   "id": "9c2eccc5",
   "metadata": {},
   "outputs": [
    {
     "data": {
      "text/plain": [
       "torch.Size([3, 1440, 2560])"
      ]
     },
     "execution_count": 8,
     "metadata": {},
     "output_type": "execute_result"
    }
   ],
   "source": [
    "sample['x'].shape"
   ]
  },
  {
   "cell_type": "code",
   "execution_count": 14,
   "id": "c674873a-ece8-4fb8-a564-f5fb267c69fd",
   "metadata": {
    "tags": []
   },
   "outputs": [],
   "source": [
    "# visualize dataset\n",
    "color_mapping = {\n",
    "    0: 'green',\n",
    "    1: 'red',\n",
    "}\n",
    "\n",
    "datasetviewer = DatasetViewer(dataset, color_mapping)\n",
    "datasetviewer.napari()\n",
    "datasetviewer.gui_text_properties(datasetviewer.shape_layer)"
   ]
  },
  {
   "cell_type": "code",
   "execution_count": 59,
   "id": "b1fce20d-f33b-4916-a5be-5ceead59060e",
   "metadata": {
    "tags": []
   },
   "outputs": [],
   "source": [
    "# visualize dataset with Faster-RCNN transformer\n",
    "color_mapping = {\n",
    "    1: 'green',\n",
    "}\n",
    "\n",
    "transform = GeneralizedRCNNTransform(min_size=1024,\n",
    "                                     max_size=1024,\n",
    "                                     image_mean=[0.485, 0.456, 0.406],\n",
    "                                     image_std=[0.229, 0.224, 0.225])\n",
    "\n",
    "datasetviewer = DatasetViewer(dataset, color_mapping, rccn_transform=transform)\n",
    "datasetviewer.napari()"
   ]
  },
  {
   "cell_type": "markdown",
   "id": "0ee6f8b5-9797-49e6-b305-6a72fc964ba1",
   "metadata": {},
   "source": [
    "## Dataset statistics"
   ]
  },
  {
   "cell_type": "code",
   "execution_count": 10,
   "id": "f086e511-2869-49a2-88e1-3cd45d27e37b",
   "metadata": {
    "tags": []
   },
   "outputs": [
    {
     "data": {
      "text/plain": [
       "{'image_height': tensor([800., 800., 800., 800., 800., 800., 800.]),\n",
       " 'image_width': tensor([960., 960., 960., 960., 960., 960., 960.]),\n",
       " 'image_mean': tensor([0.5385, 0.5358, 0.5460, 0.5516, 0.5560, 0.5362, 0.5382]),\n",
       " 'image_std': tensor([0.2796, 0.2972, 0.2964, 0.2941, 0.2916, 0.2944, 0.2935]),\n",
       " 'boxes_height': tensor([122, 196, 228, 250, 282, 344, 381]),\n",
       " 'boxes_width': tensor([12, 12, 16, 19, 22, 30, 19]),\n",
       " 'boxes_num': tensor([1., 1., 1., 1., 1., 1., 1.]),\n",
       " 'boxes_area': tensor([ 1464,  2352,  3648,  4750,  6204, 10320,  7239])}"
      ]
     },
     "execution_count": 10,
     "metadata": {},
     "output_type": "execute_result"
    }
   ],
   "source": [
    "stats = stats_dataset(dataset)\n",
    "stats"
   ]
  },
  {
   "cell_type": "code",
   "execution_count": 11,
   "id": "b4415bc8-eecf-4dff-b404-71febd6d7b7d",
   "metadata": {
    "tags": []
   },
   "outputs": [
    {
     "data": {
      "text/plain": [
       "{'image_height': tensor([864., 864., 864., 864., 864., 864., 864.]),\n",
       " 'image_width': tensor([1024., 1024., 1024., 1024., 1024., 1024., 1024.]),\n",
       " 'image_mean': tensor([0.3917, 0.3803, 0.4247, 0.4491, 0.4682, 0.3821, 0.3904]),\n",
       " 'image_std': tensor([1.2242, 1.3030, 1.2991, 1.2888, 1.2782, 1.2902, 1.2867]),\n",
       " 'boxes_height': tensor([130.1334, 209.0667, 243.2000, 266.6667, 300.8000, 366.9333, 406.4000]),\n",
       " 'boxes_width': tensor([12.7950, 12.7950, 17.0600, 20.2587, 23.4575, 31.9875, 20.2587]),\n",
       " 'boxes_num': tensor([1., 1., 1., 1., 1., 1., 1.]),\n",
       " 'boxes_area': tensor([ 1665.0581,  2675.0110,  4148.9917,  5402.3271,  7056.0225, 11737.2988,\n",
       "          8233.1465])}"
      ]
     },
     "execution_count": 11,
     "metadata": {},
     "output_type": "execute_result"
    }
   ],
   "source": [
    "transform = GeneralizedRCNNTransform(min_size=1024,\n",
    "                                     max_size=1024,\n",
    "                                     image_mean=[0.485, 0.456, 0.406],\n",
    "                                     image_std=[0.229, 0.224, 0.225])\n",
    "\n",
    "stats_transform = stats_dataset(dataset, transform)\n",
    "stats_transform"
   ]
  },
  {
   "cell_type": "code",
   "execution_count": null,
   "id": "5f501052-70d4-40ac-895b-a89f09ed27e8",
   "metadata": {
    "tags": []
   },
   "outputs": [],
   "source": []
  }
 ],
 "metadata": {
  "kernelspec": {
   "display_name": "F-RCNN",
   "language": "python",
   "name": "python3"
  },
  "language_info": {
   "codemirror_mode": {
    "name": "ipython",
    "version": 3
   },
   "file_extension": ".py",
   "mimetype": "text/x-python",
   "name": "python",
   "nbconvert_exporter": "python",
   "pygments_lexer": "ipython3",
   "version": "3.9.16"
  },
  "vscode": {
   "interpreter": {
    "hash": "e27dc1ba9d42ecc646f1a85aa1d3b993580bb5567e6b24b4aa9c67670bba6004"
   }
  }
 },
 "nbformat": 4,
 "nbformat_minor": 5
}
