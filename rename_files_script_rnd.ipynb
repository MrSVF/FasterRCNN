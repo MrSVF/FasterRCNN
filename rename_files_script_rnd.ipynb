{
 "cells": [
  {
   "attachments": {},
   "cell_type": "markdown",
   "id": "6dc85661-4112-48f0-b574-037e34c06613",
   "metadata": {},
   "source": [
    "# Rename downloaded files"
   ]
  },
  {
   "cell_type": "code",
   "execution_count": 2,
   "id": "6d4882fb-f088-44b5-804f-91057cf716cc",
   "metadata": {},
   "outputs": [],
   "source": [
    "# rename downloaded files\n",
    "import pathlib\n",
    "import random\n",
    "import os\n",
    "\n",
    "from pytorch_faster_rcnn_tutorial.utils import get_filenames_of_path\n",
    "\n",
    "# root = pathlib.Path('pytorch_faster_rcnn_tutorial/data/heads')\n",
    "root = pathlib.Path('pytorch_faster_rcnn_tutorial/data/stop_line')\n",
    "\n",
    "# inputs = get_filenames_of_path(root / 'input1-2')\n",
    "inputs = os.listdir(root / 'input4')\n",
    "random.shuffle(inputs)\n",
    "\n",
    "# with open(os.path.join(root, 'list_rnd.txt'), 'wb') as list_file:\n",
    "#     for line in inputs:\n",
    "#         list_file.write(f\"{line}\\n\")\n",
    "\n",
    "source_dir = os.path.join(root, 'input4')\n",
    "source_dir_tar = os.path.join(root, 'target4')\n",
    "dest_dir = os.path.join(root, 'input4_rnd')\n",
    "dest_dir_tar = os.path.join(root, 'target4_rnd')\n",
    "# inputs.sort()\n",
    "\n",
    "for i, filename in enumerate(inputs):\n",
    "    # формируем новое имя файла\n",
    "    new_name = f'{i+1}.jpg'  # здесь можно изменить расширение файла\n",
    "    # полный путь к исходному файлу\n",
    "    src_path = os.path.join(source_dir, filename)\n",
    "    pre, ext = os.path.splitext(filename)\n",
    "    src_path_tar = os.path.join(source_dir_tar, pre + '.json')\n",
    "    # полный путь к новому файлу\n",
    "    dest_path = os.path.join(dest_dir, new_name)\n",
    "    pre, ext = os.path.splitext(new_name)\n",
    "    dest_path_tar = os.path.join(dest_dir_tar, pre + '.json')\n",
    "    # копируем файл в новую папку с новым именем\n",
    "    with open(src_path, 'rb') as src_file:\n",
    "        with open(dest_path, 'wb') as dest_file:\n",
    "            dest_file.write(src_file.read())\n",
    "    \n",
    "    with open(src_path_tar, 'rb') as src_file_tar:\n",
    "        with open(dest_path_tar, 'wb') as dest_file_tar:\n",
    "            dest_file_tar.write(src_file_tar.read())\n"
   ]
  }
 ],
 "metadata": {
  "kernelspec": {
   "display_name": "Torch",
   "language": "python",
   "name": "python3"
  },
  "language_info": {
   "codemirror_mode": {
    "name": "ipython",
    "version": 3
   },
   "file_extension": ".py",
   "mimetype": "text/x-python",
   "name": "python",
   "nbconvert_exporter": "python",
   "pygments_lexer": "ipython3",
   "version": "3.9.16"
  },
  "vscode": {
   "interpreter": {
    "hash": "7d6cb9fd201dc86297ca76ef14a324c4c424f2dcaa9b6486ffac9adaaccd64ff"
   }
  }
 },
 "nbformat": 4,
 "nbformat_minor": 5
}
