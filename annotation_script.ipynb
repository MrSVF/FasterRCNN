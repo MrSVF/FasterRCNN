{
 "cells": [
  {
   "cell_type": "markdown",
   "id": "e9555fa0-513b-450e-bd60-c0c2675d85cb",
   "metadata": {},
   "source": [
    "# Annotations"
   ]
  },
  {
   "cell_type": "code",
   "execution_count": null,
   "id": "2c491485",
   "metadata": {},
   "outputs": [],
   "source": [
    "!pip install ipykernel --upgrade"
   ]
  },
  {
   "cell_type": "code",
   "execution_count": 1,
   "id": "2323eb72-c022-48ed-b5de-4e335129130f",
   "metadata": {},
   "outputs": [],
   "source": [
    "import os\n",
    "import pathlib\n",
    "\n",
    "from pytorch_faster_rcnn_tutorial.utils import get_filenames_of_path\n",
    "from pytorch_faster_rcnn_tutorial.visual import Annotator\n",
    "\n",
    "# directory = pathlib.Path('pytorch_faster_rcnn_tutorial/data/stop_line')\n",
    "directory = pathlib.Path('pytorch_faster_rcnn_tutorial/data/speed_bump')\n",
    "# directory = pathlib.Path('pytorch_faster_rcnn_tutorial/data/cross_lane')\n",
    "image_files = get_filenames_of_path(directory / 'input2')\n",
    "\n",
    "annotator = Annotator(image_ids=image_files)\n",
    "annotator.napari()"
   ]
  },
  {
   "cell_type": "markdown",
   "id": "e26ca027-b58e-4896-8da6-d0f1cc2f5254",
   "metadata": {},
   "source": [
    "## Add labels"
   ]
  },
  {
   "cell_type": "code",
   "execution_count": 326,
   "id": "5a3e394e-d49e-45b6-b854-acb8b908a26c",
   "metadata": {},
   "outputs": [],
   "source": [
    "# annotator.add_class(label='stopline', color='green') # head\n",
    "annotator.add_class(label='speedbump', color='green')\n",
    "# annotator.add_class(label='crossdash', color='green')"
   ]
  },
  {
   "cell_type": "code",
   "execution_count": 327,
   "id": "39fcd95f-60f9-4494-aa9b-5a18e1152f42",
   "metadata": {},
   "outputs": [],
   "source": [
    "# annotator.add_class(label='eye', color='blue') # eye\n",
    "annotator.add_class(label='bumpsign', color='red')"
   ]
  },
  {
   "cell_type": "markdown",
   "id": "93616eb9-d9fd-44e6-857d-6a85acc47a9f",
   "metadata": {},
   "source": [
    "## Save the annotations of the current (shown) image"
   ]
  },
  {
   "cell_type": "code",
   "execution_count": 328,
   "id": "5a86ca25-f157-4a5b-b95b-8c4aed0c90ae",
   "metadata": {},
   "outputs": [
    {
     "name": "stdout",
     "output_type": "stream",
     "text": [
      "Annotation 2023_0323_073752_F_0000001535.json saved to c:\\Users\\iserg\\rebels_code\\PyTorch-Object-Detection-Faster-RCNN-Tutorial\\pytorch_faster_rcnn_tutorial\\data\\speed_bump\\target2\n"
     ]
    }
   ],
   "source": [
    "# save_dir = pathlib.Path(os.getcwd()) / 'exported_images'\n",
    "save_dir = pathlib.Path(os.getcwd()) / directory / 'target2'\n",
    "save_dir.mkdir(parents=True, exist_ok=True)\n",
    "annotator.export(save_dir)"
   ]
  },
  {
   "cell_type": "markdown",
   "id": "870fb05a-03d4-4ebb-8bf4-c4c5e0109221",
   "metadata": {},
   "source": [
    "## Save all available annotations in one go"
   ]
  },
  {
   "cell_type": "code",
   "execution_count": 30,
   "id": "286f7083-6715-4ebc-80ac-aa515dd09bd2",
   "metadata": {},
   "outputs": [
    {
     "name": "stdout",
     "output_type": "stream",
     "text": [
      "Annotation 20200916_181404_cr_0000001480.json saved to c:\\Users\\iserg\\rebels_code\\PyTorch-Object-Detection-Faster-RCNN-Tutorial\\exported_images\n",
      "Annotation 20200916_181404_cr_0000001510.json saved to c:\\Users\\iserg\\rebels_code\\PyTorch-Object-Detection-Faster-RCNN-Tutorial\\exported_images\n",
      "Annotation 20200916_181404_cr_0000001520.json saved to c:\\Users\\iserg\\rebels_code\\PyTorch-Object-Detection-Faster-RCNN-Tutorial\\exported_images\n",
      "Annotation 20200916_181404_cr_0000001530.json saved to c:\\Users\\iserg\\rebels_code\\PyTorch-Object-Detection-Faster-RCNN-Tutorial\\exported_images\n",
      "Annotation 20200916_181404_cr_0000001540.json saved to c:\\Users\\iserg\\rebels_code\\PyTorch-Object-Detection-Faster-RCNN-Tutorial\\exported_images\n",
      "Annotation 20200916_181404_cr_0000001550.json saved to c:\\Users\\iserg\\rebels_code\\PyTorch-Object-Detection-Faster-RCNN-Tutorial\\exported_images\n",
      "Annotation 20200916_181404_cr_0000001560.json saved to c:\\Users\\iserg\\rebels_code\\PyTorch-Object-Detection-Faster-RCNN-Tutorial\\exported_images\n",
      "Annotation 20200916_181404_cr_0000001570.json saved to c:\\Users\\iserg\\rebels_code\\PyTorch-Object-Detection-Faster-RCNN-Tutorial\\exported_images\n",
      "Annotation 20200916_181404_cr_0000001580.json saved to c:\\Users\\iserg\\rebels_code\\PyTorch-Object-Detection-Faster-RCNN-Tutorial\\exported_images\n",
      "Annotation 20201211_113710_cr_0000000960.json saved to c:\\Users\\iserg\\rebels_code\\PyTorch-Object-Detection-Faster-RCNN-Tutorial\\exported_images\n",
      "Annotation 20201211_113710_cr_0000000970.json saved to c:\\Users\\iserg\\rebels_code\\PyTorch-Object-Detection-Faster-RCNN-Tutorial\\exported_images\n",
      "Annotation 20201211_113710_cr_0000000980.json saved to c:\\Users\\iserg\\rebels_code\\PyTorch-Object-Detection-Faster-RCNN-Tutorial\\exported_images\n",
      "Annotation 20201211_113710_cr_0000000990.json saved to c:\\Users\\iserg\\rebels_code\\PyTorch-Object-Detection-Faster-RCNN-Tutorial\\exported_images\n",
      "Annotation 20201211_113710_cr_0000001000.json saved to c:\\Users\\iserg\\rebels_code\\PyTorch-Object-Detection-Faster-RCNN-Tutorial\\exported_images\n",
      "Annotation 20201211_113710_cr_0000001010.json saved to c:\\Users\\iserg\\rebels_code\\PyTorch-Object-Detection-Faster-RCNN-Tutorial\\exported_images\n",
      "Annotation 20201211_113710_cr_0000001020.json saved to c:\\Users\\iserg\\rebels_code\\PyTorch-Object-Detection-Faster-RCNN-Tutorial\\exported_images\n",
      "Annotation 20201211_113710_cr_0000001030.json saved to c:\\Users\\iserg\\rebels_code\\PyTorch-Object-Detection-Faster-RCNN-Tutorial\\exported_images\n",
      "Annotation 20201211_113710_cr_0000001040.json saved to c:\\Users\\iserg\\rebels_code\\PyTorch-Object-Detection-Faster-RCNN-Tutorial\\exported_images\n",
      "Annotation 20201211_113710_cr_0000001050.json saved to c:\\Users\\iserg\\rebels_code\\PyTorch-Object-Detection-Faster-RCNN-Tutorial\\exported_images\n",
      "Annotation 20201211_113710_cr_0000001060.json saved to c:\\Users\\iserg\\rebels_code\\PyTorch-Object-Detection-Faster-RCNN-Tutorial\\exported_images\n"
     ]
    }
   ],
   "source": [
    "save_dir = pathlib.Path(os.getcwd()) / 'exported_images'\n",
    "save_dir.mkdir(parents=True, exist_ok=True)\n",
    "annotator.export_all(pathlib.Path(save_dir))"
   ]
  }
 ],
 "metadata": {
  "kernelspec": {
   "display_name": "F-RCNN",
   "language": "python",
   "name": "python3"
  },
  "language_info": {
   "codemirror_mode": {
    "name": "ipython",
    "version": 3
   },
   "file_extension": ".py",
   "mimetype": "text/x-python",
   "name": "python",
   "nbconvert_exporter": "python",
   "pygments_lexer": "ipython3",
   "version": "3.9.16"
  },
  "vscode": {
   "interpreter": {
    "hash": "e27dc1ba9d42ecc646f1a85aa1d3b993580bb5567e6b24b4aa9c67670bba6004"
   }
  }
 },
 "nbformat": 4,
 "nbformat_minor": 5
}
