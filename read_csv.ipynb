{
 "cells": [
  {
   "cell_type": "code",
   "execution_count": 76,
   "metadata": {},
   "outputs": [],
   "source": [
    "import pandas as pd\n",
    "import paramiko\n",
    "import pathlib"
   ]
  },
  {
   "cell_type": "code",
   "execution_count": 47,
   "metadata": {},
   "outputs": [],
   "source": [
    "df = pd.read_csv('full-gt-ice.csv')"
   ]
  },
  {
   "cell_type": "code",
   "execution_count": 77,
   "metadata": {},
   "outputs": [],
   "source": [
    "df = pd.read_csv('full-gt.csv')"
   ]
  },
  {
   "cell_type": "code",
   "execution_count": 48,
   "metadata": {},
   "outputs": [
    {
     "data": {
      "text/plain": [
       "489"
      ]
     },
     "execution_count": 48,
     "metadata": {},
     "output_type": "execute_result"
    }
   ],
   "source": [
    "len(df[df['sign_class']=='1.17'])"
   ]
  },
  {
   "cell_type": "code",
   "execution_count": 78,
   "metadata": {},
   "outputs": [
    {
     "data": {
      "text/plain": [
       "2007"
      ]
     },
     "execution_count": 78,
     "metadata": {},
     "output_type": "execute_result"
    }
   ],
   "source": [
    "len(df[df['sign_class']=='5_20'])"
   ]
  },
  {
   "cell_type": "code",
   "execution_count": 50,
   "metadata": {},
   "outputs": [],
   "source": [
    "list_117 = df[df['sign_class']=='1.17']['filename'].to_list()"
   ]
  },
  {
   "cell_type": "code",
   "execution_count": 71,
   "metadata": {},
   "outputs": [],
   "source": [
    "from pytorch_faster_rcnn_tutorial.utils import get_filenames_of_path\n",
    "directory = pathlib.Path('/media/storage3/adasys/data/icevision/imgs')\n",
    "# image_files = get_filenames_of_path(directory / 'input')\n",
    "\n",
    "# local_dir = pathlib.Path(r'C:\\\\Users\\\\iserg\\\\rebels_code\\\\PyTorch-Object-Detection-Faster-RCNN-Tutorial\\\\img117')  # путь к папке на локальном компьютере\n",
    "local_dir = pathlib.Path('C:\\img117\\1.txt')"
   ]
  },
  {
   "cell_type": "code",
   "execution_count": 66,
   "metadata": {},
   "outputs": [],
   "source": [
    "hostname = '185.185.58.125'  # IP-адрес сервера на Linux\n",
    "username = 's_filimonov'  # имя пользователя на сервере\n",
    "password = '9?+59#ol921pk'  # пароль пользователя на сервере\n",
    "port = 22"
   ]
  },
  {
   "cell_type": "code",
   "execution_count": null,
   "metadata": {},
   "outputs": [],
   "source": [
    "# создаем объект SSHClient\n",
    "ssh = paramiko.SSHClient()\n",
    "ssh.set_missing_host_key_policy(paramiko.AutoAddPolicy())\n",
    "\n",
    "# подключаемся к серверу\n",
    "ssh.connect(hostname=hostname, username=username, password=password)\n",
    "\n",
    "# копируем файл с сервера на локальный компьютер\n",
    "sftp = ssh.open_sftp()\n",
    "for f in list_117:\n",
    "    remote_path = pathlib.Path(directory / f)\n",
    "    local_path = pathlib.Path(local_dir / f)\n",
    "    print(remote_path)\n",
    "    sftp.get(remote_path, local_dir)\n",
    "\n",
    "# закрываем соединения\n",
    "sftp.close()\n",
    "ssh.close()"
   ]
  },
  {
   "cell_type": "code",
   "execution_count": 72,
   "metadata": {},
   "outputs": [],
   "source": [
    "def copy_file(hostname, port, username, password, src, dst):\n",
    "    client = paramiko.SSHClient()\n",
    "    client.load_system_host_keys()\n",
    "    print (\" Connecting to %s \\n with username=%s... \\n\" %(hostname,username))\n",
    "    t = paramiko.Transport(hostname, port)\n",
    "    t.connect(username=username,password=password)\n",
    "    sftp = paramiko.SFTPClient.from_transport(t)\n",
    "    print (\"Copying file: %s to path: %s\" %(src, dst))\n",
    "    sftp.put(src, dst)\n",
    "    sftp.close()\n",
    "    t.close() "
   ]
  },
  {
   "cell_type": "code",
   "execution_count": 75,
   "metadata": {},
   "outputs": [
    {
     "name": "stdout",
     "output_type": "stream",
     "text": [
      " Connecting to 185.185.58.125 \n",
      " with username=s_filimonov... \n",
      "\n",
      "Copying file: \\media\\storage3\\adasys\\data\\icevision\\imgs\\1518531624977000_4902052000.jpg to path: C:\\img117\u0001.txt\n"
     ]
    },
    {
     "ename": "FileNotFoundError",
     "evalue": "[WinError 3] Системе не удается найти указанный путь: '\\\\media\\\\storage3\\\\adasys\\\\data\\\\icevision\\\\imgs\\\\1518531624977000_4902052000.jpg'",
     "output_type": "error",
     "traceback": [
      "\u001b[1;31m---------------------------------------------------------------------------\u001b[0m",
      "\u001b[1;31mFileNotFoundError\u001b[0m                         Traceback (most recent call last)",
      "Cell \u001b[1;32mIn[75], line 4\u001b[0m\n\u001b[0;32m      2\u001b[0m src \u001b[39m=\u001b[39m pathlib\u001b[39m.\u001b[39mPath(directory \u001b[39m/\u001b[39m f)\n\u001b[0;32m      3\u001b[0m dst \u001b[39m=\u001b[39m pathlib\u001b[39m.\u001b[39mPath(local_dir \u001b[39m/\u001b[39m pathlib\u001b[39m.\u001b[39mPath(f))\n\u001b[1;32m----> 4\u001b[0m copy_file(hostname, port, username, password, src, local_dir)\n",
      "Cell \u001b[1;32mIn[72], line 9\u001b[0m, in \u001b[0;36mcopy_file\u001b[1;34m(hostname, port, username, password, src, dst)\u001b[0m\n\u001b[0;32m      7\u001b[0m sftp \u001b[39m=\u001b[39m paramiko\u001b[39m.\u001b[39mSFTPClient\u001b[39m.\u001b[39mfrom_transport(t)\n\u001b[0;32m      8\u001b[0m \u001b[39mprint\u001b[39m (\u001b[39m\"\u001b[39m\u001b[39mCopying file: \u001b[39m\u001b[39m%s\u001b[39;00m\u001b[39m to path: \u001b[39m\u001b[39m%s\u001b[39;00m\u001b[39m\"\u001b[39m \u001b[39m%\u001b[39m(src, dst))\n\u001b[1;32m----> 9\u001b[0m sftp\u001b[39m.\u001b[39;49mput(src, dst)\n\u001b[0;32m     10\u001b[0m sftp\u001b[39m.\u001b[39mclose()\n\u001b[0;32m     11\u001b[0m t\u001b[39m.\u001b[39mclose()\n",
      "File \u001b[1;32mc:\\Users\\iserg\\anaconda3\\envs\\Torch\\lib\\site-packages\\paramiko\\sftp_client.py:757\u001b[0m, in \u001b[0;36mSFTPClient.put\u001b[1;34m(self, localpath, remotepath, callback, confirm)\u001b[0m\n\u001b[0;32m    729\u001b[0m \u001b[39mdef\u001b[39;00m \u001b[39mput\u001b[39m(\u001b[39mself\u001b[39m, localpath, remotepath, callback\u001b[39m=\u001b[39m\u001b[39mNone\u001b[39;00m, confirm\u001b[39m=\u001b[39m\u001b[39mTrue\u001b[39;00m):\n\u001b[0;32m    730\u001b[0m \u001b[39m    \u001b[39m\u001b[39m\"\"\"\u001b[39;00m\n\u001b[0;32m    731\u001b[0m \u001b[39m    Copy a local file (``localpath``) to the SFTP server as ``remotepath``.\u001b[39;00m\n\u001b[0;32m    732\u001b[0m \u001b[39m    Any exception raised by operations will be passed through.  This\u001b[39;00m\n\u001b[1;32m   (...)\u001b[0m\n\u001b[0;32m    755\u001b[0m \u001b[39m        ``confirm`` param added.\u001b[39;00m\n\u001b[0;32m    756\u001b[0m \u001b[39m    \"\"\"\u001b[39;00m\n\u001b[1;32m--> 757\u001b[0m     file_size \u001b[39m=\u001b[39m os\u001b[39m.\u001b[39;49mstat(localpath)\u001b[39m.\u001b[39mst_size\n\u001b[0;32m    758\u001b[0m     \u001b[39mwith\u001b[39;00m \u001b[39mopen\u001b[39m(localpath, \u001b[39m\"\u001b[39m\u001b[39mrb\u001b[39m\u001b[39m\"\u001b[39m) \u001b[39mas\u001b[39;00m fl:\n\u001b[0;32m    759\u001b[0m         \u001b[39mreturn\u001b[39;00m \u001b[39mself\u001b[39m\u001b[39m.\u001b[39mputfo(fl, remotepath, file_size, callback, confirm)\n",
      "\u001b[1;31mFileNotFoundError\u001b[0m: [WinError 3] Системе не удается найти указанный путь: '\\\\media\\\\storage3\\\\adasys\\\\data\\\\icevision\\\\imgs\\\\1518531624977000_4902052000.jpg'"
     ]
    },
    {
     "name": "stderr",
     "output_type": "stream",
     "text": [
      "Socket exception: Удаленный хост принудительно разорвал существующее подключение (10054)\n",
      "Socket exception: Удаленный хост принудительно разорвал существующее подключение (10054)\n",
      "Socket exception: Удаленный хост принудительно разорвал существующее подключение (10054)\n",
      "Socket exception: Удаленный хост принудительно разорвал существующее подключение (10054)\n",
      "Socket exception: Удаленный хост принудительно разорвал существующее подключение (10054)\n",
      "Socket exception: Удаленный хост принудительно разорвал существующее подключение (10054)\n",
      "Socket exception: Удаленный хост принудительно разорвал существующее подключение (10054)\n",
      "Socket exception: Удаленный хост принудительно разорвал существующее подключение (10054)\n",
      "Socket exception: Удаленный хост принудительно разорвал существующее подключение (10054)\n",
      "Socket exception: Удаленный хост принудительно разорвал существующее подключение (10054)\n",
      "Socket exception: Удаленный хост принудительно разорвал существующее подключение (10054)\n",
      "Socket exception: Удаленный хост принудительно разорвал существующее подключение (10054)\n",
      "Socket exception: Удаленный хост принудительно разорвал существующее подключение (10054)\n",
      "Socket exception: Удаленный хост принудительно разорвал существующее подключение (10054)\n",
      "Socket exception: Удаленный хост принудительно разорвал существующее подключение (10054)\n",
      "Socket exception: Удаленный хост принудительно разорвал существующее подключение (10054)\n",
      "Socket exception: Удаленный хост принудительно разорвал существующее подключение (10054)\n",
      "Socket exception: Удаленный хост принудительно разорвал существующее подключение (10054)\n",
      "Socket exception: Удаленный хост принудительно разорвал существующее подключение (10054)\n",
      "Socket exception: Удаленный хост принудительно разорвал существующее подключение (10054)\n",
      "Socket exception: Удаленный хост принудительно разорвал существующее подключение (10054)\n",
      "Socket exception: Удаленный хост принудительно разорвал существующее подключение (10054)\n",
      "Socket exception: Удаленный хост принудительно разорвал существующее подключение (10054)\n",
      "Socket exception: Удаленный хост принудительно разорвал существующее подключение (10054)\n",
      "Socket exception: Удаленный хост принудительно разорвал существующее подключение (10054)\n",
      "Socket exception: Удаленный хост принудительно разорвал существующее подключение (10054)\n",
      "Socket exception: Удаленный хост принудительно разорвал существующее подключение (10054)\n",
      "Socket exception: Удаленный хост принудительно разорвал существующее подключение (10054)\n",
      "Socket exception: Удаленный хост принудительно разорвал существующее подключение (10054)\n",
      "Socket exception: Удаленный хост принудительно разорвал существующее подключение (10054)\n",
      "Socket exception: Удаленный хост принудительно разорвал существующее подключение (10054)\n",
      "Socket exception: Удаленный хост принудительно разорвал существующее подключение (10054)\n"
     ]
    }
   ],
   "source": [
    "for f in list_117:\n",
    "    src = pathlib.Path(directory / f)\n",
    "    dst = pathlib.Path(local_dir / pathlib.Path(f))\n",
    "    copy_file(hostname, port, username, password, src, local_dir)"
   ]
  }
 ],
 "metadata": {
  "kernelspec": {
   "display_name": "Torch",
   "language": "python",
   "name": "python3"
  },
  "language_info": {
   "codemirror_mode": {
    "name": "ipython",
    "version": 3
   },
   "file_extension": ".py",
   "mimetype": "text/x-python",
   "name": "python",
   "nbconvert_exporter": "python",
   "pygments_lexer": "ipython3",
   "version": "3.9.16"
  },
  "orig_nbformat": 4
 },
 "nbformat": 4,
 "nbformat_minor": 2
}
