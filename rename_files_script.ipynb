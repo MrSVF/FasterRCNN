{
 "cells": [
  {
   "cell_type": "markdown",
   "id": "6dc85661-4112-48f0-b574-037e34c06613",
   "metadata": {},
   "source": [
    "# Rename downloaded files"
   ]
  },
  {
   "cell_type": "code",
   "execution_count": 1,
   "id": "6d4882fb-f088-44b5-804f-91057cf716cc",
   "metadata": {},
   "outputs": [
    {
     "name": "stderr",
     "output_type": "stream",
     "text": [
      "c:\\Users\\iserg\\anaconda3\\envs\\Torch\\lib\\site-packages\\tqdm\\auto.py:21: TqdmWarning: IProgress not found. Please update jupyter and ipywidgets. See https://ipywidgets.readthedocs.io/en/stable/user_install.html\n",
      "  from .autonotebook import tqdm as notebook_tqdm\n"
     ]
    },
    {
     "name": "stdout",
     "output_type": "stream",
     "text": [
      "old: Проезднакрасный_0000000084.jpg\n",
      "new: &noline84.jpg\n",
      "old: Проезднакрасный_0000000085.jpg\n",
      "new: &noline85.jpg\n",
      "old: Проезднакрасный_0000000086.jpg\n",
      "new: &noline86.jpg\n",
      "old: Проезднакрасный_0000000087.jpg\n",
      "new: &noline87.jpg\n",
      "old: Проезднакрасный_0000000088.jpg\n",
      "new: &noline88.jpg\n",
      "old: Проезднакрасный_0000000089.jpg\n",
      "new: &noline89.jpg\n",
      "old: Проезднакрасный_0000000090.jpg\n",
      "new: &noline90.jpg\n",
      "old: Проезднакрасный_0000000091.jpg\n",
      "new: &noline91.jpg\n",
      "old: Проезднакрасный_0000000092.jpg\n",
      "new: &noline92.jpg\n",
      "old: Проезднакрасный_0000000093.jpg\n",
      "new: &noline93.jpg\n",
      "old: Проезднакрасный_0000000094.jpg\n",
      "new: &noline94.jpg\n",
      "old: Проезднакрасный_0000000095.jpg\n",
      "new: &noline95.jpg\n",
      "old: Проезднакрасный_0000000096.jpg\n",
      "new: &noline96.jpg\n",
      "old: Проезднакрасный_0000000097.jpg\n",
      "new: &noline97.jpg\n",
      "old: Проезднакрасный_0000000098.jpg\n",
      "new: &noline98.jpg\n",
      "old: Проезднакрасный_0000000099.jpg\n",
      "new: &noline99.jpg\n",
      "old: Проезднакрасный_0000000100.jpg\n",
      "new: &noline100.jpg\n",
      "old: Проезднакрасный_0000000101.jpg\n",
      "new: &noline101.jpg\n",
      "old: Проезднакрасный_0000000102.jpg\n",
      "new: &noline102.jpg\n",
      "old: Проезднакрасный_0000000103.jpg\n",
      "new: &noline103.jpg\n",
      "old: Проезднакрасный_0000000104.jpg\n",
      "new: &noline104.jpg\n",
      "old: Проезднакрасный_0000000105.jpg\n",
      "new: &noline105.jpg\n",
      "old: Проезднакрасный_0000000106.jpg\n",
      "new: &noline106.jpg\n",
      "old: Проезднакрасный_0000000107.jpg\n",
      "new: &noline107.jpg\n",
      "old: Проезднакрасный_0000000108.jpg\n",
      "new: &noline108.jpg\n",
      "old: Проезднакрасный_0000000109.jpg\n",
      "new: &noline109.jpg\n",
      "old: Проезднакрасный_0000000110.jpg\n",
      "new: &noline110.jpg\n"
     ]
    }
   ],
   "source": [
    "# rename downloaded files\n",
    "import pathlib\n",
    "\n",
    "from pytorch_faster_rcnn_tutorial.utils import get_filenames_of_path\n",
    "\n",
    "# root = pathlib.Path('pytorch_faster_rcnn_tutorial/data/heads')\n",
    "root = pathlib.Path('pytorch_faster_rcnn_tutorial/data/stop_line')\n",
    "\n",
    "inputs = get_filenames_of_path(root / 'frames_noline')\n",
    "inputs.sort()\n",
    "\n",
    "\n",
    "for idx, path in enumerate(inputs):\n",
    "    old_name = path.stem\n",
    "    old_extension = path.suffix\n",
    "    dir = path.parent\n",
    "    # new_name =  '&noline' + str(idx) + old_extension #str(idx).zfill(3)\n",
    "    new_name =  '&noline' + old_name.split('_')[-1].lstrip('0') + old_extension #str(idx).zfill(3)\n",
    "    print(f'old: {old_name + old_extension}')\n",
    "    print(f'new: {new_name}')\n",
    "    path.rename(pathlib.Path(dir, new_name))"
   ]
  }
 ],
 "metadata": {
  "kernelspec": {
   "display_name": "Torch",
   "language": "python",
   "name": "python3"
  },
  "language_info": {
   "codemirror_mode": {
    "name": "ipython",
    "version": 3
   },
   "file_extension": ".py",
   "mimetype": "text/x-python",
   "name": "python",
   "nbconvert_exporter": "python",
   "pygments_lexer": "ipython3",
   "version": "3.9.16"
  },
  "vscode": {
   "interpreter": {
    "hash": "7d6cb9fd201dc86297ca76ef14a324c4c424f2dcaa9b6486ffac9adaaccd64ff"
   }
  }
 },
 "nbformat": 4,
 "nbformat_minor": 5
}
