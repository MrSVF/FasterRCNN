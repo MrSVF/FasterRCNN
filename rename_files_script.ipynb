{
 "cells": [
  {
   "cell_type": "markdown",
   "id": "6dc85661-4112-48f0-b574-037e34c06613",
   "metadata": {},
   "source": [
    "# Rename downloaded files"
   ]
  },
  {
   "cell_type": "code",
   "execution_count": 2,
   "id": "6d4882fb-f088-44b5-804f-91057cf716cc",
   "metadata": {},
   "outputs": [
    {
     "name": "stdout",
     "output_type": "stream",
     "text": [
      "old: 000.png\n",
      "new: 000.png\n",
      "old: 001.png\n",
      "new: 001.png\n",
      "old: 002.png\n",
      "new: 002.png\n",
      "old: 003.png\n",
      "new: 003.png\n",
      "old: 004.png\n",
      "new: 004.png\n",
      "old: 005.png\n",
      "new: 005.png\n",
      "old: 006.png\n",
      "new: 006.png\n",
      "old: 007.png\n",
      "new: 007.png\n",
      "old: 008.png\n",
      "new: 008.png\n",
      "old: 009.png\n",
      "new: 009.png\n",
      "old: 010.png\n",
      "new: 010.png\n",
      "old: 011.png\n",
      "new: 011.png\n",
      "old: 012.png\n",
      "new: 012.png\n",
      "old: 013.png\n",
      "new: 013.png\n",
      "old: 014.png\n",
      "new: 014.png\n",
      "old: 015.png\n",
      "new: 015.png\n",
      "old: 016.png\n",
      "new: 016.png\n",
      "old: 017.png\n",
      "new: 017.png\n",
      "old: 018.png\n",
      "new: 018.png\n",
      "old: 019.png\n",
      "new: 019.png\n",
      "old: 020.png\n",
      "new: 020.png\n",
      "old: 021.png\n",
      "new: 021.png\n",
      "old: 022.png\n",
      "new: 022.png\n",
      "old: 023.png\n",
      "new: 023.png\n",
      "old: 024.png\n",
      "new: 024.png\n",
      "old: 025.png\n",
      "new: 025.png\n",
      "old: 026.png\n",
      "new: 026.png\n",
      "old: 027.png\n",
      "new: 027.png\n",
      "old: 028.png\n",
      "new: 028.png\n",
      "old: 029.png\n",
      "new: 029.png\n",
      "old: 20200904_180145_cr_0000000140.png\n",
      "new: 030.png\n",
      "old: 20200904_180145_cr_0000000150.png\n",
      "new: 031.png\n",
      "old: 20200904_180145_cr_0000000160.png\n",
      "new: 032.png\n",
      "old: 20200904_180145_cr_0000000170.png\n",
      "new: 033.png\n",
      "old: 20200904_180145_cr_0000000175.png\n",
      "new: 034.png\n"
     ]
    }
   ],
   "source": [
    "# rename downloaded files\n",
    "import pathlib\n",
    "\n",
    "from pytorch_faster_rcnn_tutorial.utils import get_filenames_of_path\n",
    "\n",
    "# root = pathlib.Path('pytorch_faster_rcnn_tutorial/data/heads')\n",
    "root = pathlib.Path('pytorch_faster_rcnn_tutorial/data/stop_line')\n",
    "\n",
    "inputs = get_filenames_of_path(root / 'target1')\n",
    "inputs.sort()\n",
    "\n",
    "\n",
    "for idx, path in enumerate(inputs):\n",
    "    old_name = path.stem\n",
    "    old_extension = path.suffix\n",
    "    dir = path.parent\n",
    "    new_name = str(idx).zfill(3) + old_extension\n",
    "    print(f'old: {old_name + old_extension}')\n",
    "    print(f'new: {new_name}')\n",
    "    path.rename(pathlib.Path(dir, new_name))"
   ]
  }
 ],
 "metadata": {
  "kernelspec": {
   "display_name": "Torch",
   "language": "python",
   "name": "python3"
  },
  "language_info": {
   "codemirror_mode": {
    "name": "ipython",
    "version": 3
   },
   "file_extension": ".py",
   "mimetype": "text/x-python",
   "name": "python",
   "nbconvert_exporter": "python",
   "pygments_lexer": "ipython3",
   "version": "3.9.16"
  },
  "vscode": {
   "interpreter": {
    "hash": "7d6cb9fd201dc86297ca76ef14a324c4c424f2dcaa9b6486ffac9adaaccd64ff"
   }
  }
 },
 "nbformat": 4,
 "nbformat_minor": 5
}
